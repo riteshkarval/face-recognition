{
 "cells": [
  {
   "cell_type": "code",
   "execution_count": 1,
   "metadata": {},
   "outputs": [],
   "source": [
    "import warnings\n",
    "warnings.filterwarnings('ignore')"
   ]
  },
  {
   "cell_type": "code",
   "execution_count": 2,
   "metadata": {},
   "outputs": [
    {
     "name": "stderr",
     "output_type": "stream",
     "text": [
      "Using TensorFlow backend.\n"
     ]
    }
   ],
   "source": [
    "from keras.models import load_model\n",
    "from keras import backend as K\n",
    "from keras.layers import Activation\n",
    "from keras.layers import Input, Lambda, Dense, Dropout, Convolution2D, MaxPooling2D, Flatten\n",
    "import re\n",
    "import numpy as np\n",
    "from PIL import Image\n",
    "from sklearn.model_selection import train_test_split\n",
    "from collections import Counter"
   ]
  },
  {
   "cell_type": "code",
   "execution_count": 3,
   "metadata": {},
   "outputs": [],
   "source": [
    "def compute_accuracy(predictions, labels):\n",
    "    return labels[predictions.ravel() < 0.5].mean()"
   ]
  },
  {
   "cell_type": "code",
   "execution_count": 4,
   "metadata": {},
   "outputs": [],
   "source": [
    "def contrastive_loss(y_true, y_pred):\n",
    "    margin = 1\n",
    "    return K.mean(y_true * K.square(y_pred) + (1 - y_true) * K.square(K.maximum(margin - y_pred, 0)))"
   ]
  },
  {
   "cell_type": "code",
   "execution_count": 5,
   "metadata": {},
   "outputs": [],
   "source": [
    "def read_image(filename, byteorder='>'):\n",
    "    \n",
    "    #first we read the image, as a raw file to the buffer\n",
    "    with open(filename, 'rb') as f:\n",
    "        buffer = f.read()\n",
    "    \n",
    "    #using regex, we extract the header, width, height and maxval of the image\n",
    "    header, width, height, maxval = re.search(\n",
    "        b\"(^P5\\s(?:\\s*#.*[\\r\\n])*\"\n",
    "        b\"(\\d+)\\s(?:\\s*#.*[\\r\\n])*\"\n",
    "        b\"(\\d+)\\s(?:\\s*#.*[\\r\\n])*\"\n",
    "        b\"(\\d+)\\s(?:\\s*#.*[\\r\\n]\\s)*)\", buffer).groups()\n",
    "    \n",
    "    #then we convert the image to numpy array using np.frombuffer which interprets buffer as one dimensional array\n",
    "    return np.frombuffer(buffer,\n",
    "                            dtype='u1' if int(maxval) < 256 else byteorder+'u2',\n",
    "                            count=int(width)*int(height),\n",
    "                            offset=len(header)\n",
    "                            ).reshape((int(height), int(width)))"
   ]
  },
  {
   "cell_type": "code",
   "execution_count": 14,
   "metadata": {},
   "outputs": [],
   "source": [
    "n_of_persons = 35\n",
    "def get_person(size, total_sample_size, p_id):\n",
    "    image = read_image('att-database-of-faces/s' + str(1) + '/' + str(1) + '.pgm', 'rw+')\n",
    "#     image = image[::size, ::size]\n",
    "    dim1 = image.shape[0]\n",
    "    dim2 = image.shape[1]\n",
    "    p_imgs = np.zeros([total_sample_size, 1, dim1, dim2]) \n",
    "    count = 0    \n",
    "    for j in range(10):\n",
    "        img1 = read_image('att-database-of-faces/s' + str(p_id+1) + '/' + str(j + 1) + '.pgm', 'rw+')\n",
    "        #img1 = img1[::size, ::size]\n",
    "        p_imgs[count, 0, :, :] = img1\n",
    "        count += 1\n",
    "    return p_imgs/255"
   ]
  },
  {
   "cell_type": "code",
   "execution_count": 15,
   "metadata": {},
   "outputs": [],
   "source": [
    "model = load_model('face_model.h5', custom_objects={'contrastive_loss': contrastive_loss})"
   ]
  },
  {
   "cell_type": "code",
   "execution_count": 16,
   "metadata": {},
   "outputs": [],
   "source": [
    "size = 2\n",
    "X = []\n",
    "for i in range(n_of_persons):\n",
    "    X.append(get_person(size,10,i))"
   ]
  },
  {
   "cell_type": "code",
   "execution_count": 27,
   "metadata": {},
   "outputs": [],
   "source": [
    "# p_id = np.random.randint(40)\n",
    "# p_imgs = get_person(size,10,p_id)\n",
    "# st = 0\n",
    "# for i in range(n_of_persons):\n",
    "#     pred = model.predict([X[i], p_imgs]).ravel() < 0.3\n",
    "#     if Counter(pred)[True] >8:\n",
    "#         print(\"Member\")\n",
    "#         print(i+1, p_id+1)\n",
    "#         st = 1\n",
    "        \n",
    "# if st == 0:\n",
    "#     print(\"Not a member\")\n",
    "#     print(p_id+1)"
   ]
  },
  {
   "cell_type": "code",
   "execution_count": 58,
   "metadata": {},
   "outputs": [
    {
     "name": "stdout",
     "output_type": "stream",
     "text": [
      "Not a member\n",
      "39\n",
      "Counter({False: 10})\n"
     ]
    }
   ],
   "source": [
    "p_id = np.random.randint(40)\n",
    "img_id = np.random.randint(10)\n",
    "image = read_image('att-database-of-faces/s' + str(p_id+1) + '/' + str(img_id + 1) + '.pgm', 'rw+')\n",
    "p_imgs = np.zeros([10, 1, image.shape[0], image.shape[1]])  \n",
    "for i in range(10):\n",
    "    p_imgs[i, 0, :, :] = image/255\n",
    "st = 0\n",
    "for i in range(n_of_persons):\n",
    "    pred = model.predict([X[i], p_imgs]).ravel() < 0.2\n",
    "    if Counter(pred)[True] >9:\n",
    "        print(\"Member\")\n",
    "        print(Counter(pred))\n",
    "        print(i+1, p_id+1)\n",
    "        st = 1\n",
    "if st == 0:\n",
    "    print(\"Not a member\")\n",
    "    print(p_id+1)\n",
    "    print(Counter(pred))"
   ]
  }
 ],
 "metadata": {
  "kernelspec": {
   "display_name": "Python 3",
   "language": "python",
   "name": "python3"
  },
  "language_info": {
   "codemirror_mode": {
    "name": "ipython",
    "version": 3
   },
   "file_extension": ".py",
   "mimetype": "text/x-python",
   "name": "python",
   "nbconvert_exporter": "python",
   "pygments_lexer": "ipython3",
   "version": "3.6.9"
  }
 },
 "nbformat": 4,
 "nbformat_minor": 2
}
